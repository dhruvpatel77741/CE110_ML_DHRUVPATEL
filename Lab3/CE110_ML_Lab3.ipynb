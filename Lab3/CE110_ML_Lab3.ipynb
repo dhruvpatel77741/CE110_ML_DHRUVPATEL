{
  "cells": [
    {
      "cell_type": "markdown",
      "metadata": {
        "id": "Tcwfj8lByyT1"
      },
      "source": [
        "#1_NB_Classifier_Weather\n",
        "\n",
        "Aim: Implement Naive Bayes classifier : Weather Example"
      ]
    },
    {
      "cell_type": "markdown",
      "metadata": {
        "id": "FnYrAQphMl0M"
      },
      "source": [
        "###Import Libraries"
      ]
    },
    {
      "cell_type": "code",
      "execution_count": 37,
      "metadata": {
        "id": "K_C-A2LRyiYY"
      },
      "outputs": [],
      "source": [
        "from sklearn import preprocessing\n",
        "from sklearn.naive_bayes import GaussianNB, MultinomialNB"
      ]
    },
    {
      "cell_type": "markdown",
      "metadata": {
        "id": "kduccBANM0Od"
      },
      "source": [
        "###Prepare Dataset"
      ]
    },
    {
      "cell_type": "code",
      "execution_count": 38,
      "metadata": {
        "id": "Qu--HukCzFOv"
      },
      "outputs": [],
      "source": [
        "weather = ['Sunny', 'Sunny', 'Overcast', 'Rainy', 'Rainy','Rainy', 'Overcast',\n",
        "           'Sunny', 'Sunny', 'Rainy', 'Sunny', 'Overcast', 'Overcast', 'Rainy']\n",
        "\n",
        "temp = ['Hot','Hot','Hot','Mild','Cool','Cool','Cool','Mild',\n",
        "        'Cool','Mild','Mild','Mild','Hot','Mild']\n",
        "\n",
        "play=['No','No','Yes','Yes','Yes','No','Yes','No','Yes',\n",
        "      'Yes','Yes','Yes','Yes','No']"
      ]
    },
    {
      "cell_type": "markdown",
      "metadata": {
        "id": "kEXWCNyqND4v"
      },
      "source": [
        "###Digitize the data set using encoding"
      ]
    },
    {
      "cell_type": "code",
      "execution_count": 39,
      "metadata": {
        "colab": {
          "base_uri": "https://localhost:8080/"
        },
        "id": "JtDBCOk-zKaG",
        "outputId": "a83eead0-009a-4578-a270-0510c8296f60"
      },
      "outputs": [
        {
          "data": {
            "text/plain": [
              "array([2, 2, 0, 1, 1, 1, 0, 2, 2, 1, 2, 0, 0, 1])"
            ]
          },
          "execution_count": 39,
          "metadata": {},
          "output_type": "execute_result"
        }
      ],
      "source": [
        "le = preprocessing.LabelEncoder()\n",
        "\n",
        "weather_encoded = le.fit_transform(weather)\n",
        "weather_encoded"
      ]
    },
    {
      "cell_type": "code",
      "execution_count": 40,
      "metadata": {
        "colab": {
          "base_uri": "https://localhost:8080/"
        },
        "id": "NVNX54pkzdLy",
        "outputId": "d2a0cfee-db1f-46c4-91db-14aac5840629"
      },
      "outputs": [
        {
          "data": {
            "text/plain": [
              "array([1, 1, 1, 2, 0, 0, 0, 2, 0, 2, 2, 2, 1, 2])"
            ]
          },
          "execution_count": 40,
          "metadata": {},
          "output_type": "execute_result"
        }
      ],
      "source": [
        "temp_encoded = le.fit_transform(temp)\n",
        "\n",
        "temp_encoded"
      ]
    },
    {
      "cell_type": "code",
      "execution_count": 41,
      "metadata": {
        "colab": {
          "base_uri": "https://localhost:8080/"
        },
        "id": "7rapVgSlzqBs",
        "outputId": "686d4ff3-b17a-4924-ee7c-5fc8dd85c4f6"
      },
      "outputs": [
        {
          "data": {
            "text/plain": [
              "array([0, 0, 1, 1, 1, 0, 1, 0, 1, 1, 1, 1, 1, 0])"
            ]
          },
          "execution_count": 41,
          "metadata": {},
          "output_type": "execute_result"
        }
      ],
      "source": [
        "label = le.fit_transform(play)\n",
        "label"
      ]
    },
    {
      "cell_type": "markdown",
      "metadata": {
        "id": "xS4jFF5NbvG-"
      },
      "source": [
        "####Manual Calculations"
      ]
    },
    {
      "cell_type": "code",
      "execution_count": 42,
      "metadata": {
        "colab": {
          "base_uri": "https://localhost:8080/"
        },
        "id": "P_VVclEOzq-n",
        "outputId": "b888cf24-7f85-4f0c-aa54-50982327e90e"
      },
      "outputs": [
        {
          "data": {
            "text/plain": [
              "(('Sunny', 'Hot', 'No'),\n",
              " ('Sunny', 'Hot', 'No'),\n",
              " ('Overcast', 'Hot', 'Yes'),\n",
              " ('Rainy', 'Mild', 'Yes'),\n",
              " ('Rainy', 'Cool', 'Yes'),\n",
              " ('Rainy', 'Cool', 'No'),\n",
              " ('Overcast', 'Cool', 'Yes'),\n",
              " ('Sunny', 'Mild', 'No'),\n",
              " ('Sunny', 'Cool', 'Yes'),\n",
              " ('Rainy', 'Mild', 'Yes'),\n",
              " ('Sunny', 'Mild', 'Yes'),\n",
              " ('Overcast', 'Mild', 'Yes'),\n",
              " ('Overcast', 'Hot', 'Yes'),\n",
              " ('Rainy', 'Mild', 'No'))"
            ]
          },
          "execution_count": 42,
          "metadata": {},
          "output_type": "execute_result"
        }
      ],
      "source": [
        "features=tuple(zip(weather,temp,play))\n",
        "features"
      ]
    },
    {
      "cell_type": "code",
      "execution_count": 43,
      "metadata": {
        "colab": {
          "base_uri": "https://localhost:8080/"
        },
        "id": "HZb6fCPo0VrT",
        "outputId": "ff9cf472-6d2b-43e6-d22e-379f13f3b31d"
      },
      "outputs": [
        {
          "data": {
            "text/plain": [
              "0.425531914893617"
            ]
          },
          "execution_count": 43,
          "metadata": {},
          "output_type": "execute_result"
        }
      ],
      "source": [
        "totalCases = len(features)\n",
        "# Probablity of Play \n",
        "pY = 0\n",
        "# Probablity of Not Play \n",
        "pN = 0\n",
        "\n",
        "# Probablity of Yes and Sunny\n",
        "p_S_Y = 0;\n",
        "# Probablity of Yes and OverCast\n",
        "p_O_Y = 0;\n",
        "# Probablity of Yes and Rainy\n",
        "p_R_Y = 0;\n",
        "\n",
        "\n",
        "# Probablity of Yes and Hot\n",
        "p_H_Y = 0;\n",
        "# Probablity of Yes and Mild\n",
        "p_M_Y = 0;\n",
        "# Probablity of Yes and Cool\n",
        "p_C_Y = 0;\n",
        "\n",
        "# Probablity of No and Sunny\n",
        "p_S_N = 0;\n",
        "# Probablity of No and OverCast\n",
        "p_O_N = 0;\n",
        "# Probablity of No and Rainy\n",
        "p_R_N = 0;\n",
        "\n",
        "\n",
        "# Probablity of No and Hot\n",
        "p_H_N = 0;\n",
        "# Probablity of No and Mild\n",
        "p_M_N = 0;\n",
        "# Probablity of No and Cool\n",
        "p_C_N = 0;\n",
        "\n",
        "\n",
        "\n",
        "for index, item in enumerate(features):\n",
        "    \n",
        "    if item[2] == 'Yes':\n",
        "      if item[0] == 'Sunny':\n",
        "        p_S_Y+=1\n",
        "      elif item[0] == 'Overcast':\n",
        "        p_O_Y+=1\n",
        "      else:\n",
        "        p_R_Y+=1\n",
        "\n",
        "      if item[1] == 'Hot':\n",
        "        p_H_Y+=1\n",
        "      elif item[1] == 'Mild':\n",
        "        p_M_Y+=1\n",
        "      else:\n",
        "        p_C_Y+=1\n",
        "\n",
        "      pY+=1\n",
        "\n",
        "    if item[2] == 'No':\n",
        "      if item[0] == 'Sunny':\n",
        "        p_S_N+=1\n",
        "      elif item[0] == 'Overcast':\n",
        "        p_O_N+=1\n",
        "      else:\n",
        "        p_R_N+=1\n",
        "\n",
        "      if item[1] == 'Hot':\n",
        "        p_H_N+=1\n",
        "      elif item[1] == 'Mild':\n",
        "        p_M_N+=1\n",
        "      else:\n",
        "        p_C_N+=1\n",
        "\n",
        "\n",
        "      pN+=1\n",
        "\n",
        "p_S_Y /= pY\n",
        "p_O_Y /= pY\n",
        "p_R_Y /= pY\n",
        "\n",
        "p_H_Y /= pY\n",
        "p_M_Y /= pY\n",
        "p_C_Y /= pY\n",
        "pY = pY/totalCases\n",
        "\n",
        "p_S_N /= pN\n",
        "p_O_N /= pN\n",
        "p_R_N /= pN\n",
        "\n",
        "p_H_N /= pN\n",
        "p_M_N /= pN\n",
        "p_C_N /= pN\n",
        "pN /= totalCases\n",
        "\n",
        "# probablity of play when weather is Sunny and temp is Mild\n",
        "p_S_M =(p_S_Y* p_M_Y * pY) + (p_S_N * p_M_N * pN)\n",
        "p_Y_SM = p_S_Y * p_M_Y * pY / p_S_M\n",
        "\n",
        "\n",
        "# probablity of play when weather is Overcast and temp is Mild\n",
        "p_O_M =(p_O_Y* p_M_Y * pY) + (p_O_N * p_M_N * pN)\n",
        "p_Y_OM = p_O_Y * p_M_Y * pY / p_O_M\n",
        "\n",
        "\n",
        "# probablity of play when weather is Sunny and temp is Hot\n",
        "p_S_H = (p_S_Y * p_H_Y * pY) + (p_S_N * p_H_N * pN)\n",
        "p_Y_SH = p_S_Y * p_H_Y * pY / p_S_H\n",
        "\n",
        "p_Y_SM"
      ]
    },
    {
      "cell_type": "markdown",
      "metadata": {
        "id": "7RbTeFKuNm3R"
      },
      "source": [
        "###Merge different features to prepare dataset"
      ]
    },
    {
      "cell_type": "code",
      "execution_count": 44,
      "metadata": {
        "colab": {
          "base_uri": "https://localhost:8080/"
        },
        "id": "3_I7baVe6yYF",
        "outputId": "c9a9197a-2fa6-4a2a-85eb-a2cb78f9115c"
      },
      "outputs": [
        {
          "data": {
            "text/plain": [
              "((2, 1),\n",
              " (2, 1),\n",
              " (0, 1),\n",
              " (1, 2),\n",
              " (1, 0),\n",
              " (1, 0),\n",
              " (0, 0),\n",
              " (2, 2),\n",
              " (2, 0),\n",
              " (1, 2),\n",
              " (2, 2),\n",
              " (0, 2),\n",
              " (0, 1),\n",
              " (1, 2))"
            ]
          },
          "execution_count": 44,
          "metadata": {},
          "output_type": "execute_result"
        }
      ],
      "source": [
        "features_encoded=tuple(zip(weather_encoded,temp_encoded))\n",
        "features_encoded"
      ]
    },
    {
      "cell_type": "markdown",
      "metadata": {
        "id": "30zTvYX6Nrrq"
      },
      "source": [
        "###Train ’Naive Bayes Classifier’"
      ]
    },
    {
      "cell_type": "code",
      "execution_count": 45,
      "metadata": {
        "colab": {
          "base_uri": "https://localhost:8080/"
        },
        "id": "ZUXa3UOYX1Sm",
        "outputId": "4ccd4edd-d477-4d80-b747-73b4b0bd55a1"
      },
      "outputs": [
        {
          "data": {
            "text/plain": [
              "MultinomialNB()"
            ]
          },
          "execution_count": 45,
          "metadata": {},
          "output_type": "execute_result"
        }
      ],
      "source": [
        "model = MultinomialNB()\n",
        "\n",
        "model.fit(features_encoded,label)"
      ]
    },
    {
      "cell_type": "markdown",
      "metadata": {
        "id": "NjWagnNXNvFv"
      },
      "source": [
        "###Predict Output for new data"
      ]
    },
    {
      "cell_type": "code",
      "execution_count": 46,
      "metadata": {
        "colab": {
          "base_uri": "https://localhost:8080/"
        },
        "id": "yWMyiUK6YHma",
        "outputId": "db74a115-0f3b-4b61-b28e-1f70188728b2"
      },
      "outputs": [
        {
          "data": {
            "text/plain": [
              "array([1])"
            ]
          },
          "execution_count": 46,
          "metadata": {},
          "output_type": "execute_result"
        }
      ],
      "source": [
        "predicted_Overcast_Mild = model.predict([[0,2]])\n",
        "predicted_Overcast_Mild"
      ]
    },
    {
      "cell_type": "code",
      "execution_count": 47,
      "metadata": {
        "colab": {
          "base_uri": "https://localhost:8080/"
        },
        "id": "t0Kt9APMYWf8",
        "outputId": "0778e5cd-5501-4358-e6be-790105910cab"
      },
      "outputs": [
        {
          "data": {
            "text/plain": [
              "array([1])"
            ]
          },
          "execution_count": 47,
          "metadata": {},
          "output_type": "execute_result"
        }
      ],
      "source": [
        "predicted_Overcast_Hot = model.predict([[0,1]])\n",
        "predicted_Overcast_Hot"
      ]
    },
    {
      "cell_type": "code",
      "execution_count": 48,
      "metadata": {
        "colab": {
          "base_uri": "https://localhost:8080/"
        },
        "id": "scEKN0gUY2Mq",
        "outputId": "77e2658c-8e45-434a-c2b9-8b14be8dfabf"
      },
      "outputs": [
        {
          "data": {
            "text/plain": [
              "array([1])"
            ]
          },
          "execution_count": 48,
          "metadata": {},
          "output_type": "execute_result"
        }
      ],
      "source": [
        "predicted_Sunny_Mild = model.predict([[2,2]])\n",
        "predicted_Sunny_Mild"
      ]
    },
    {
      "cell_type": "markdown",
      "metadata": {
        "id": "W9rNZh6hZB5Q"
      },
      "source": [
        "#2_NB_Classifier_Iris_2Classes\n",
        "\n"
      ]
    },
    {
      "cell_type": "code",
      "execution_count": 27,
      "metadata": {
        "id": "iAULPmnNY8yV"
      },
      "outputs": [],
      "source": [
        "#Import scikit-learn dataset library\n",
        "import numpy as np\n",
        "from sklearn import datasets\n",
        "from sklearn.naive_bayes import GaussianNB\n",
        "\n",
        "#Load dataset\n",
        "iris = datasets.load_iris()"
      ]
    },
    {
      "cell_type": "code",
      "execution_count": 28,
      "metadata": {
        "colab": {
          "base_uri": "https://localhost:8080/"
        },
        "id": "edPa6n5AcFzw",
        "outputId": "88c8d3b7-64c5-4bfe-95fc-44e40b7bed5f"
      },
      "outputs": [
        {
          "data": {
            "text/plain": [
              "['sepal length (cm)',\n",
              " 'sepal width (cm)',\n",
              " 'petal length (cm)',\n",
              " 'petal width (cm)']"
            ]
          },
          "execution_count": 28,
          "metadata": {},
          "output_type": "execute_result"
        }
      ],
      "source": [
        "iris.feature_names"
      ]
    },
    {
      "cell_type": "code",
      "execution_count": 29,
      "metadata": {
        "colab": {
          "base_uri": "https://localhost:8080/"
        },
        "id": "QYtuu9I4erJV",
        "outputId": "cbd68cf4-77eb-47f7-dfe5-87758bb53306"
      },
      "outputs": [
        {
          "data": {
            "text/plain": [
              "array(['setosa', 'versicolor', 'virginica'], dtype='<U10')"
            ]
          },
          "execution_count": 29,
          "metadata": {},
          "output_type": "execute_result"
        }
      ],
      "source": [
        "iris.target_names"
      ]
    },
    {
      "cell_type": "code",
      "execution_count": 30,
      "metadata": {
        "colab": {
          "base_uri": "https://localhost:8080/"
        },
        "id": "AVmZV6hXeuNY",
        "outputId": "96d9cfb4-c929-46ea-886a-2b0a6c87cf34"
      },
      "outputs": [
        {
          "data": {
            "text/plain": [
              "array([0, 0, 0, 0, 0, 0, 0, 0, 0, 0, 0, 0, 0, 0, 0, 0, 0, 0, 0, 0, 0, 0,\n",
              "       0, 0, 0, 0, 0, 0, 0, 0, 0, 0, 0, 0, 0, 0, 0, 0, 0, 0, 0, 0, 0, 0,\n",
              "       0, 0, 0, 0, 0, 0, 1, 1, 1, 1, 1, 1, 1, 1, 1, 1, 1, 1, 1, 1, 1, 1,\n",
              "       1, 1, 1, 1, 1, 1, 1, 1, 1, 1, 1, 1, 1, 1, 1, 1, 1, 1, 1, 1, 1, 1,\n",
              "       1, 1, 1, 1, 1, 1, 1, 1, 1, 1, 1, 1, 2, 2, 2, 2, 2, 2, 2, 2, 2, 2,\n",
              "       2, 2, 2, 2, 2, 2, 2, 2, 2, 2, 2, 2, 2, 2, 2, 2, 2, 2, 2, 2, 2, 2,\n",
              "       2, 2, 2, 2, 2, 2, 2, 2, 2, 2, 2, 2, 2, 2, 2, 2, 2, 2])"
            ]
          },
          "execution_count": 30,
          "metadata": {},
          "output_type": "execute_result"
        }
      ],
      "source": [
        "iris.target"
      ]
    },
    {
      "cell_type": "code",
      "execution_count": 31,
      "metadata": {
        "id": "ZSu_tIoaew4E"
      },
      "outputs": [],
      "source": [
        "newdata = iris.data[50:,:]\n",
        "newtarget = iris.target[50:]"
      ]
    },
    {
      "cell_type": "code",
      "execution_count": 32,
      "metadata": {
        "id": "zZX3yI7sgIHY"
      },
      "outputs": [],
      "source": [
        "from sklearn.model_selection import train_test_split\n",
        "\n",
        "data_train, data_test, target_train, target_test = train_test_split(newdata,newtarget,test_size = .30, random_state=110)\n"
      ]
    },
    {
      "cell_type": "code",
      "execution_count": 33,
      "metadata": {
        "id": "P4t-VtCvgkRl"
      },
      "outputs": [],
      "source": [
        "import numpy as np\n",
        "\n",
        "gnb = GaussianNB()\n",
        "\n",
        "gnb.fit(data_train, target_train)\n",
        "\n",
        "target_pred = gnb.predict(data_test)"
      ]
    },
    {
      "cell_type": "code",
      "execution_count": 34,
      "metadata": {
        "colab": {
          "base_uri": "https://localhost:8080/"
        },
        "id": "BTnuIVttgoYK",
        "outputId": "951a7fe1-f159-4d7b-d9b0-29592d7620bb"
      },
      "outputs": [
        {
          "data": {
            "text/plain": [
              "0.9666666666666667"
            ]
          },
          "execution_count": 34,
          "metadata": {},
          "output_type": "execute_result"
        }
      ],
      "source": [
        "from sklearn import metrics\n",
        "\n",
        "metrics.accuracy_score(target_test, target_pred)"
      ]
    },
    {
      "cell_type": "code",
      "execution_count": 35,
      "metadata": {
        "colab": {
          "base_uri": "https://localhost:8080/"
        },
        "id": "u--GNd4RhJZ2",
        "outputId": "6037d467-bd34-4fa4-bbfc-a8b6827fbb03"
      },
      "outputs": [
        {
          "data": {
            "text/plain": [
              "array([[14,  0],\n",
              "       [ 1, 15]])"
            ]
          },
          "execution_count": 35,
          "metadata": {},
          "output_type": "execute_result"
        }
      ],
      "source": [
        "from sklearn.metrics import confusion_matrix\n",
        "confusion_matrix(target_test, target_pred)"
      ]
    },
    {
      "cell_type": "code",
      "execution_count": 36,
      "metadata": {
        "colab": {
          "base_uri": "https://localhost:8080/"
        },
        "id": "sDWLIotthOtK",
        "outputId": "2d032459-25b6-4ed5-ee2d-73b5de903ad5"
      },
      "outputs": [
        {
          "name": "stdout",
          "output_type": "stream",
          "text": [
            "precision: 0.9333333333333333\n",
            "recall: 1.0\n"
          ]
        }
      ],
      "source": [
        "from sklearn.metrics import precision_score\n",
        "from sklearn.metrics import recall_score\n",
        "precision = precision_score(target_test, target_pred)\n",
        "recall = recall_score(target_test, target_pred)\n",
        "print('precision: {}'.format(precision))\n",
        "print('recall: {}'.format(recall))"
      ]
    },
    {
      "cell_type": "markdown",
      "metadata": {
        "id": "U2H2YDQkPWIj"
      },
      "source": [
        "#Exercise:"
      ]
    },
    {
      "cell_type": "markdown",
      "metadata": {
        "id": "ev_DNFJOeELB"
      },
      "source": [
        "####Task1"
      ]
    },
    {
      "cell_type": "code",
      "execution_count": 11,
      "metadata": {
        "colab": {
          "base_uri": "https://localhost:8080/"
        },
        "id": "B99VX7U8VSEM",
        "outputId": "9967fce8-77d4-4c7a-ec18-4d6bf7f9c880"
      },
      "outputs": [
        {
          "name": "stdout",
          "output_type": "stream",
          "text": [
            "Describe\n",
            "    Outlook Temp Wind  Humidity  Class\n",
            "0        R    H    F         1      0\n",
            "1        R    H    T         2      0\n",
            "2        O    H    F         1      1\n",
            "3        R    M    F         1      1\n",
            "4        S    C    F         1      1\n",
            "5        O    C    T         0      0\n",
            "6        O    C    T         1      1\n",
            "7        R    M    F         1      0\n",
            "8        O    C    F         0      1\n",
            "9        S    M    F         2      1\n",
            "10       R    C    T         2      0\n",
            "11       O    M    T         0      1\n",
            "12       O    H    F         1      1\n",
            "13       S    M    T         1      0\n",
            "\n",
            "Description\n",
            "         Humidity      Class\n",
            "count  14.000000  14.000000\n",
            "mean    1.000000   0.571429\n",
            "std     0.679366   0.513553\n",
            "min     0.000000   0.000000\n",
            "25%     1.000000   0.000000\n",
            "50%     1.000000   1.000000\n",
            "75%     1.000000   1.000000\n",
            "max     2.000000   1.000000\n"
          ]
        }
      ],
      "source": [
        "import numpy as np\n",
        "import pandas as pd\n",
        "dataset=pd.read_csv('/content/Dataset3.csv');\n",
        "print(\"Describe\\n\",dataset);\n",
        "print(\"\\nDescription\\n\",dataset.describe())"
      ]
    },
    {
      "cell_type": "code",
      "execution_count": 12,
      "metadata": {
        "colab": {
          "base_uri": "https://localhost:8080/"
        },
        "id": "nKk_2pF6X1J9",
        "outputId": "7cb0a6d4-ef58-4c65-d35d-ddb355742140"
      },
      "outputs": [
        {
          "name": "stdout",
          "output_type": "stream",
          "text": [
            "Shape of dataset (14, 5)\n"
          ]
        }
      ],
      "source": [
        "print(\"Shape of dataset\",dataset.shape)"
      ]
    },
    {
      "cell_type": "code",
      "execution_count": 13,
      "metadata": {
        "colab": {
          "base_uri": "https://localhost:8080/"
        },
        "id": "KxMRhXDtfRQ4",
        "outputId": "5b6128da-6a31-4d58-abe4-e760b5438cba"
      },
      "outputs": [
        {
          "name": "stdout",
          "output_type": "stream",
          "text": [
            "<class 'pandas.core.frame.DataFrame'>\n",
            "RangeIndex: 14 entries, 0 to 13\n",
            "Data columns (total 5 columns):\n",
            " #   Column    Non-Null Count  Dtype \n",
            "---  ------    --------------  ----- \n",
            " 0   Outlook   14 non-null     object\n",
            " 1   Temp      14 non-null     object\n",
            " 2   Wind      14 non-null     object\n",
            " 3   Humidity  14 non-null     int64 \n",
            " 4   Class     14 non-null     int64 \n",
            "dtypes: int64(2), object(3)\n",
            "memory usage: 688.0+ bytes\n"
          ]
        }
      ],
      "source": [
        "dataset.info()"
      ]
    },
    {
      "cell_type": "code",
      "execution_count": 14,
      "metadata": {
        "colab": {
          "base_uri": "https://localhost:8080/"
        },
        "id": "orfRFvnRgRZW",
        "outputId": "a6e05349-593c-44ae-dd41-4a4be66b39c0"
      },
      "outputs": [
        {
          "name": "stdout",
          "output_type": "stream",
          "text": [
            "\u001b[1mUnique outlook values\u001b[0m ['R' 'O' 'S']\n",
            "\u001b[1m\n",
            "Unique temperature vlaues\u001b[0m ['H' 'M' 'C']\n",
            "\u001b[1m\n",
            "Unique Wind values\u001b[0m ['F' 'T']\n",
            "\u001b[1m\n",
            "Unique Humidity values\u001b[0m [1 2 0]\n",
            "\u001b[1m\n",
            "Unique Class values\u001b[0m [0 1]\n"
          ]
        }
      ],
      "source": [
        "start='\\033[1m' #make text after start keyword bold \n",
        "end='\\033[0m' #make text back to normal\n",
        "print(start+\"Unique outlook values\"+end,dataset[\"Outlook\"].unique())\n",
        "print(start+\"\\nUnique temperature vlaues\"+end,dataset[\"Temp\"].unique())\n",
        "print(start+\"\\nUnique Wind values\"+end,dataset[\"Wind\"].unique())\n",
        "print(start+\"\\nUnique Humidity values\"+end,dataset[\"Humidity\"].unique())\n",
        "print(start+\"\\nUnique Class values\"+end,dataset[\"Class\"].unique())"
      ]
    },
    {
      "cell_type": "code",
      "execution_count": 15,
      "metadata": {
        "colab": {
          "base_uri": "https://localhost:8080/"
        },
        "id": "tG7Pb3QjibsS",
        "outputId": "251c8e72-83b9-4f2c-f940-2795aa4eafc6"
      },
      "outputs": [
        {
          "name": "stdout",
          "output_type": "stream",
          "text": [
            "Each column datatype Outlook     object\n",
            "Temp        object\n",
            "Wind        object\n",
            "Humidity     int64\n",
            "Class        int64\n",
            "dtype: object\n"
          ]
        }
      ],
      "source": [
        "print(\"Each column datatype\",dataset.dtypes)"
      ]
    },
    {
      "cell_type": "code",
      "execution_count": 16,
      "metadata": {
        "id": "KOlZ5Glci0M_"
      },
      "outputs": [],
      "source": [
        "#using OneHotEncoding\n",
        "from sklearn import preprocessing\n",
        "ohe=preprocessing.OneHotEncoder()"
      ]
    },
    {
      "cell_type": "code",
      "execution_count": 17,
      "metadata": {
        "colab": {
          "base_uri": "https://localhost:8080/"
        },
        "id": "srmUrBzOjj2H",
        "outputId": "7aa03e37-ab55-4a26-fc23-a70309eaa91e"
      },
      "outputs": [
        {
          "name": "stdout",
          "output_type": "stream",
          "text": [
            "Dummy after onehotencoding:\n",
            "     Humidity  Class  Outlook_O  Outlook_R  ...  Temp_H  Temp_M  Wind_F  Wind_T\n",
            "0          1      0          0          1  ...       1       0       1       0\n",
            "1          2      0          0          1  ...       1       0       0       1\n",
            "2          1      1          1          0  ...       1       0       1       0\n",
            "3          1      1          0          1  ...       0       1       1       0\n",
            "4          1      1          0          0  ...       0       0       1       0\n",
            "5          0      0          1          0  ...       0       0       0       1\n",
            "6          1      1          1          0  ...       0       0       0       1\n",
            "7          1      0          0          1  ...       0       1       1       0\n",
            "8          0      1          1          0  ...       0       0       1       0\n",
            "9          2      1          0          0  ...       0       1       1       0\n",
            "10         2      0          0          1  ...       0       0       0       1\n",
            "11         0      1          1          0  ...       0       1       0       1\n",
            "12         1      1          1          0  ...       1       0       1       0\n",
            "13         1      0          0          0  ...       0       1       0       1\n",
            "\n",
            "[14 rows x 10 columns]\n"
          ]
        }
      ],
      "source": [
        "ohe_data=pd.get_dummies(dataset,columns=['Outlook','Temp','Wind'])\n",
        "print(\"Dummy after onehotencoding:\\n\",ohe_data)"
      ]
    },
    {
      "cell_type": "code",
      "execution_count": 18,
      "metadata": {
        "colab": {
          "base_uri": "https://localhost:8080/"
        },
        "id": "XYpsGlFunw6h",
        "outputId": "1940fee1-ca18-46d4-cbd4-5a0b9f98c399"
      },
      "outputs": [
        {
          "name": "stdout",
          "output_type": "stream",
          "text": [
            "Label\n",
            " 0     0\n",
            "1     0\n",
            "2     1\n",
            "3     1\n",
            "4     1\n",
            "5     0\n",
            "6     1\n",
            "7     0\n",
            "8     1\n",
            "9     1\n",
            "10    0\n",
            "11    1\n",
            "12    1\n",
            "13    0\n",
            "Name: Class, dtype: int64\n",
            "Non label\n",
            "     Humidity  Outlook_O  Outlook_R  Outlook_S  ...  Temp_H  Temp_M  Wind_F  Wind_T\n",
            "0          1          0          1          0  ...       1       0       1       0\n",
            "1          2          0          1          0  ...       1       0       0       1\n",
            "2          1          1          0          0  ...       1       0       1       0\n",
            "3          1          0          1          0  ...       0       1       1       0\n",
            "4          1          0          0          1  ...       0       0       1       0\n",
            "5          0          1          0          0  ...       0       0       0       1\n",
            "6          1          1          0          0  ...       0       0       0       1\n",
            "7          1          0          1          0  ...       0       1       1       0\n",
            "8          0          1          0          0  ...       0       0       1       0\n",
            "9          2          0          0          1  ...       0       1       1       0\n",
            "10         2          0          1          0  ...       0       0       0       1\n",
            "11         0          1          0          0  ...       0       1       0       1\n",
            "12         1          1          0          0  ...       1       0       1       0\n",
            "13         1          0          0          1  ...       0       1       0       1\n",
            "\n",
            "[14 rows x 9 columns]\n"
          ]
        }
      ],
      "source": [
        "label=dataset.Class\n",
        "print(\"Label\\n\",label)\n",
        "non_label=ohe_data[['Humidity','Outlook_O','Outlook_R','Outlook_S','Temp_C','Temp_H','Temp_M','Wind_F','Wind_T']]\n",
        "print(\"Non label\\n\",non_label)"
      ]
    },
    {
      "cell_type": "code",
      "execution_count": 19,
      "metadata": {
        "id": "XEft44FTIFRA"
      },
      "outputs": [],
      "source": [
        "from sklearn.model_selection import train_test_split\n",
        "data_train,data_test,target_train,target_test=train_test_split(non_label,label,train_size=0.85,random_state=110)"
      ]
    },
    {
      "cell_type": "code",
      "execution_count": 20,
      "metadata": {
        "colab": {
          "base_uri": "https://localhost:8080/"
        },
        "id": "p6UurPJ2Jtou",
        "outputId": "e09ff3f9-56dd-490b-ceca-20b5351fd979"
      },
      "outputs": [
        {
          "data": {
            "text/plain": [
              "GaussianNB()"
            ]
          },
          "execution_count": 20,
          "metadata": {},
          "output_type": "execute_result"
        }
      ],
      "source": [
        "from sklearn.naive_bayes import GaussianNB\n",
        "gnb=GaussianNB()\n",
        "#train model based on training datasets\n",
        "gnb.fit(data_train,target_train)"
      ]
    },
    {
      "cell_type": "code",
      "execution_count": 21,
      "metadata": {
        "colab": {
          "base_uri": "https://localhost:8080/"
        },
        "id": "Lxc_4Ke0L2OP",
        "outputId": "43f7574a-0bdd-42c2-fb99-1dc92ff71cb4"
      },
      "outputs": [
        {
          "name": "stdout",
          "output_type": "stream",
          "text": [
            "Prediction: [0 0 0]\n"
          ]
        }
      ],
      "source": [
        "#prediction for test dataset\n",
        "tar_pred=gnb.predict(data_test)\n",
        "print(\"Prediction:\",tar_pred)"
      ]
    },
    {
      "cell_type": "code",
      "execution_count": 22,
      "metadata": {
        "colab": {
          "base_uri": "https://localhost:8080/"
        },
        "id": "sO2FXRAGMnPP",
        "outputId": "41eed128-6186-46f4-82a2-b0fc2fb858c8"
      },
      "outputs": [
        {
          "name": "stdout",
          "output_type": "stream",
          "text": [
            "Accuracy: 0.0\n"
          ]
        }
      ],
      "source": [
        "#accuracy\n",
        "from sklearn import metrics\n",
        "print(\"Accuracy:\",metrics.accuracy_score(target_test,tar_pred))"
      ]
    },
    {
      "cell_type": "code",
      "execution_count": 23,
      "metadata": {
        "colab": {
          "base_uri": "https://localhost:8080/"
        },
        "id": "YEtslCxXO-5A",
        "outputId": "e2565b8c-038b-4ddd-bf79-28d5db9c253c"
      },
      "outputs": [
        {
          "name": "stdout",
          "output_type": "stream",
          "text": [
            "Confusion matrix:\n"
          ]
        },
        {
          "data": {
            "text/plain": [
              "array([[0, 0],\n",
              "       [3, 0]])"
            ]
          },
          "execution_count": 23,
          "metadata": {},
          "output_type": "execute_result"
        }
      ],
      "source": [
        "#confusion martix\n",
        "from sklearn.metrics import confusion_matrix\n",
        "print(\"Confusion matrix:\")\n",
        "confusion_matrix(target_test,tar_pred)"
      ]
    },
    {
      "cell_type": "code",
      "execution_count": 24,
      "metadata": {
        "colab": {
          "base_uri": "https://localhost:8080/"
        },
        "id": "BnD0YH5dOPix",
        "outputId": "29ec64f5-b84c-4b32-df09-7c7f6facdcbc"
      },
      "outputs": [
        {
          "name": "stdout",
          "output_type": "stream",
          "text": [
            "Precision: 0.0\n",
            "\n",
            "Recall: 0.0\n"
          ]
        },
        {
          "name": "stderr",
          "output_type": "stream",
          "text": [
            "/usr/local/lib/python3.7/dist-packages/sklearn/metrics/_classification.py:1318: UndefinedMetricWarning: Precision is ill-defined and being set to 0.0 due to no predicted samples. Use `zero_division` parameter to control this behavior.\n",
            "  _warn_prf(average, modifier, msg_start, len(result))\n"
          ]
        }
      ],
      "source": [
        "from sklearn.metrics import precision_score,recall_score\n",
        "precision=precision_score(target_test,tar_pred)\n",
        "recall=recall_score(target_test,tar_pred)\n",
        "print(\"Precision:\",precision)\n",
        "print(\"\\nRecall:\",recall)"
      ]
    },
    {
      "cell_type": "markdown",
      "metadata": {
        "id": "ScX7HaXMSz1i"
      },
      "source": [
        "(1) What will be the value of Play, if Outlook is ’Rainy’, Temperature is ’Mild’, Humidity =’Normal’, and Wind = ’False’?"
      ]
    },
    {
      "cell_type": "code",
      "execution_count": 25,
      "metadata": {
        "colab": {
          "base_uri": "https://localhost:8080/"
        },
        "id": "O30O3Mp1S1rW",
        "outputId": "928a9dd9-f73b-474f-e566-91a14a3cef5c"
      },
      "outputs": [
        {
          "name": "stdout",
          "output_type": "stream",
          "text": [
            "Prediction for (1) is: [1]\n"
          ]
        }
      ],
      "source": [
        "q1=[1,0,1,0,0,0,1,1,0] #1 for humidity normal\n",
        "v1=pd.DataFrame([q1],columns=[\"Humidity\",\"Outlook_O\",\"Outlook_R\",\"Outlook_S\",\"Temp_C\",\"Temp_H\",\"Temp_M\",\"Wind_F\",\"Wind_T\"])\n",
        "prediction1=gnb.predict(v1)\n",
        "print(\"Prediction for (1) is:\",prediction1)"
      ]
    },
    {
      "cell_type": "markdown",
      "metadata": {
        "id": "UyQ329QwXs7F"
      },
      "source": [
        "(2) What will be the value of Play, if Outlook is ’Sunny’, Temeprature is ’Cool’, Humidity =’High’,\n",
        "and Wind = ’True’?"
      ]
    },
    {
      "cell_type": "code",
      "execution_count": 26,
      "metadata": {
        "colab": {
          "base_uri": "https://localhost:8080/"
        },
        "id": "w6swVxePXrOo",
        "outputId": "226c88a4-afb8-4702-c5b7-65b19dd13232"
      },
      "outputs": [
        {
          "name": "stdout",
          "output_type": "stream",
          "text": [
            "Prediction for (2) is: [0]\n"
          ]
        }
      ],
      "source": [
        "q2=[2,0,0,1,1,0,0,0,1] #2 for humidity high\n",
        "v2=pd.DataFrame([q2],columns=[\"Humidity\",\"Outlook_O\",\"Outlook_R\",\"Outlook_S\",\"Temp_C\",\"Temp_H\",\"Temp_M\",\"Wind_F\",\"Wind_T\"])\n",
        "prediction2=gnb.predict(v2)\n",
        "print(\"Prediction for (2) is:\",prediction2)"
      ]
    },
    {
      "cell_type": "markdown",
      "metadata": {
        "id": "US-N2FSXe_5s"
      },
      "source": [
        "####Task2"
      ]
    },
    {
      "cell_type": "code",
      "execution_count": 1,
      "metadata": {
        "id": "v9MKubuRRP-m"
      },
      "outputs": [],
      "source": [
        "from sklearn.datasets import load_wine\n",
        "import numpy as np\n",
        "from sklearn.naive_bayes import GaussianNB\n",
        "data=load_wine()"
      ]
    },
    {
      "cell_type": "code",
      "execution_count": 2,
      "metadata": {
        "colab": {
          "base_uri": "https://localhost:8080/"
        },
        "id": "i4T3UUuiqd8t",
        "outputId": "b3c4776f-89f0-4aea-b564-e34d99b22e36"
      },
      "outputs": [
        {
          "name": "stdout",
          "output_type": "stream",
          "text": [
            "Features: ['alcohol', 'malic_acid', 'ash', 'alcalinity_of_ash', 'magnesium', 'total_phenols', 'flavanoids', 'nonflavanoid_phenols', 'proanthocyanins', 'color_intensity', 'hue', 'od280/od315_of_diluted_wines', 'proline']\n",
            "\n",
            "Labels: ['class_0' 'class_1' 'class_2']\n",
            "\n",
            "Data shape: (178, 13)\n",
            "\n",
            " Target shape: (178,)\n",
            "\n",
            "Date type: <class 'numpy.ndarray'>\n"
          ]
        }
      ],
      "source": [
        "print(\"Features:\",data.feature_names)\n",
        "print(\"\\nLabels:\",data.target_names);\n",
        "print(\"\\nData shape:\",data.data.shape)\n",
        "print(\"\\n Target shape:\",data.target.shape)\n",
        "print(\"\\nDate type:\",type(data.data))"
      ]
    },
    {
      "cell_type": "code",
      "execution_count": 3,
      "metadata": {
        "colab": {
          "base_uri": "https://localhost:8080/"
        },
        "id": "7-Co_okFseag",
        "outputId": "77b7e1a0-9b57-46fb-91ff-695b28ccd2c1"
      },
      "outputs": [
        {
          "name": "stdout",
          "output_type": "stream",
          "text": [
            "\u001b[1mNewdata:\n",
            "\u001b[0m [[1.356e+01 1.710e+00 2.310e+00 ... 9.500e-01 3.380e+00 7.950e+02]\n",
            " [1.341e+01 3.840e+00 2.120e+00 ... 9.100e-01 3.000e+00 1.035e+03]\n",
            " [1.388e+01 1.890e+00 2.590e+00 ... 8.800e-01 3.560e+00 1.095e+03]\n",
            " ...\n",
            " [1.327e+01 4.280e+00 2.260e+00 ... 5.900e-01 1.560e+00 8.350e+02]\n",
            " [1.317e+01 2.590e+00 2.370e+00 ... 6.000e-01 1.620e+00 8.400e+02]\n",
            " [1.413e+01 4.100e+00 2.740e+00 ... 6.100e-01 1.600e+00 5.600e+02]]\n",
            "\u001b[1m\n",
            "New target:\n",
            "\u001b[0m [0 0 0 0 0 0 0 0 0 0 0 0 0 0 0 0 0 0 0 1 1 1 1 1 1 1 1 1 1 1 1 1 1 1 1 1 1\n",
            " 1 1 1 1 1 1 1 1 1 1 1 1 1 1 1 1 1 1 1 1 1 1 1 1 1 1 1 1 1 1 1 1 1 1 1 1 1\n",
            " 1 1 1 1 1 1 1 1 1 1 1 1 1 1 1 1 2 2 2 2 2 2 2 2 2 2 2 2 2 2 2 2 2 2 2 2 2\n",
            " 2 2 2 2 2 2 2 2 2 2 2 2 2 2 2 2 2 2 2 2 2 2 2 2 2 2 2]\n"
          ]
        }
      ],
      "source": [
        "bold=\"\\033[1m\"\n",
        "end=\"\\033[0m\"\n",
        "newdata=data.data[40:,:]\n",
        "newtarget=data.target[40:]\n",
        "print(bold+\"Newdata:\\n\"+end,newdata)\n",
        "print(bold+\"\\nNew target:\\n\"+end,newtarget)"
      ]
    },
    {
      "cell_type": "code",
      "execution_count": 4,
      "metadata": {
        "colab": {
          "base_uri": "https://localhost:8080/"
        },
        "id": "t1RLo15AtT-9",
        "outputId": "c4783df7-3082-4918-a068-c6a5a248e389"
      },
      "outputs": [
        {
          "name": "stdout",
          "output_type": "stream",
          "text": [
            "New data shape: (138, 13)\n",
            "New target shape: (138,)\n"
          ]
        }
      ],
      "source": [
        "print(\"New data shape:\",newdata.shape)\n",
        "print(\"New target shape:\",newtarget.shape)"
      ]
    },
    {
      "cell_type": "code",
      "execution_count": 5,
      "metadata": {
        "id": "Vw3nbgWBt-Ay"
      },
      "outputs": [],
      "source": [
        "from sklearn.model_selection import train_test_split\n",
        "data_train,data_test,target_train,target_test=train_test_split(newdata,newtarget,train_size=0.66,random_state=110)"
      ]
    },
    {
      "cell_type": "code",
      "execution_count": 6,
      "metadata": {
        "id": "QJ5iE-TMufmI"
      },
      "outputs": [],
      "source": [
        "import numpy as np\n",
        "gnb=GaussianNB()\n",
        "#train model using training sets\n",
        "gnb.fit(data_train,target_train)\n",
        "target_pred=gnb.predict(data_test)"
      ]
    },
    {
      "cell_type": "code",
      "execution_count": 7,
      "metadata": {
        "colab": {
          "base_uri": "https://localhost:8080/"
        },
        "id": "0UrcjjLrvZvf",
        "outputId": "a030b976-72c4-48e4-f762-adb7398844ef"
      },
      "outputs": [
        {
          "name": "stdout",
          "output_type": "stream",
          "text": [
            "Accuracy: 1.0\n"
          ]
        }
      ],
      "source": [
        "#Accuracy\n",
        "from sklearn import metrics\n",
        "print(\"Accuracy:\",metrics.accuracy_score(target_test,target_pred))"
      ]
    },
    {
      "cell_type": "code",
      "execution_count": 8,
      "metadata": {
        "colab": {
          "base_uri": "https://localhost:8080/"
        },
        "id": "geDSWNw7v01P",
        "outputId": "dbe8ae20-c8ee-46ca-82c8-3bc6ac548392"
      },
      "outputs": [
        {
          "name": "stdout",
          "output_type": "stream",
          "text": [
            "Confusion matrix:\n"
          ]
        },
        {
          "data": {
            "text/plain": [
              "array([[ 5,  0,  0],\n",
              "       [ 0, 25,  0],\n",
              "       [ 0,  0, 17]])"
            ]
          },
          "execution_count": 8,
          "metadata": {},
          "output_type": "execute_result"
        }
      ],
      "source": [
        "#confusion matrix\n",
        "from sklearn.metrics import confusion_matrix\n",
        "print(\"Confusion matrix:\")\n",
        "confusion_matrix(target_test,target_pred)"
      ]
    },
    {
      "cell_type": "code",
      "execution_count": 9,
      "metadata": {
        "colab": {
          "base_uri": "https://localhost:8080/"
        },
        "id": "sZd1sMNMwROO",
        "outputId": "8755e17b-dc4f-4c42-d976-ee2088a4f4e8"
      },
      "outputs": [
        {
          "name": "stdout",
          "output_type": "stream",
          "text": [
            "Precision: [1. 1. 1.]\n",
            "\n",
            "Recall: [1. 1. 1.]\n"
          ]
        }
      ],
      "source": [
        "#precision and recall\n",
        "from sklearn.metrics import precision_score,recall_score\n",
        "precision=precision_score(target_test,target_pred,average=None)\n",
        "recall=recall_score(target_test,target_pred,average=None)\n",
        "print(\"Precision:\",precision)\n",
        "print(\"\\nRecall:\",recall)"
      ]
    }
  ],
  "metadata": {
    "colab": {
      "collapsed_sections": [
        "Tcwfj8lByyT1",
        "W9rNZh6hZB5Q",
        "ev_DNFJOeELB",
        "US-N2FSXe_5s"
      ],
      "name": "CE115_ML_Lab3.ipynb",
      "provenance": []
    },
    "kernelspec": {
      "display_name": "Python 3",
      "name": "python3"
    },
    "language_info": {
      "name": "python"
    }
  },
  "nbformat": 4,
  "nbformat_minor": 0
}
